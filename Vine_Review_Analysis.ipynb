{
  "nbformat": 4,
  "nbformat_minor": 0,
  "metadata": {
    "colab": {
      "name": "Vine_Review_Analysis.ipynb",
      "provenance": []
    },
    "kernelspec": {
      "name": "python3",
      "display_name": "Python 3"
    },
    "language_info": {
      "name": "python"
    }
  },
  "cells": [
    {
      "cell_type": "code",
      "execution_count": 1,
      "metadata": {
        "id": "EHHb2mwXAeIA",
        "colab": {
          "base_uri": "https://localhost:8080/"
        },
        "outputId": "e5487610-d584-4e7c-a1c5-eee4c1f6ae63"
      },
      "outputs": [
        {
          "output_type": "stream",
          "name": "stdout",
          "text": [
            "Get:1 https://cloud.r-project.org/bin/linux/ubuntu bionic-cran40/ InRelease [3,626 B]\n",
            "Get:2 https://developer.download.nvidia.com/compute/cuda/repos/ubuntu1804/x86_64  InRelease [1,581 B]\n",
            "Get:3 http://security.ubuntu.com/ubuntu bionic-security InRelease [88.7 kB]\n",
            "Ign:4 https://developer.download.nvidia.com/compute/machine-learning/repos/ubuntu1804/x86_64  InRelease\n",
            "Hit:5 http://archive.ubuntu.com/ubuntu bionic InRelease\n",
            "Hit:6 https://developer.download.nvidia.com/compute/machine-learning/repos/ubuntu1804/x86_64  Release\n",
            "Get:7 http://ppa.launchpad.net/c2d4u.team/c2d4u4.0+/ubuntu bionic InRelease [15.9 kB]\n",
            "Get:8 http://archive.ubuntu.com/ubuntu bionic-updates InRelease [88.7 kB]\n",
            "Get:9 https://developer.download.nvidia.com/compute/cuda/repos/ubuntu1804/x86_64  Packages [806 kB]\n",
            "Hit:10 http://ppa.launchpad.net/cran/libgit2/ubuntu bionic InRelease\n",
            "Get:11 http://archive.ubuntu.com/ubuntu bionic-backports InRelease [74.6 kB]\n",
            "Get:13 http://ppa.launchpad.net/deadsnakes/ppa/ubuntu bionic InRelease [15.9 kB]\n",
            "Get:14 http://ppa.launchpad.net/graphics-drivers/ppa/ubuntu bionic InRelease [21.3 kB]\n",
            "Get:15 http://security.ubuntu.com/ubuntu bionic-security/main amd64 Packages [2,830 kB]\n",
            "Get:16 http://ppa.launchpad.net/c2d4u.team/c2d4u4.0+/ubuntu bionic/main Sources [1,992 kB]\n",
            "Get:17 http://archive.ubuntu.com/ubuntu bionic-updates/universe amd64 Packages [2,290 kB]\n",
            "Get:18 http://security.ubuntu.com/ubuntu bionic-security/universe amd64 Packages [1,515 kB]\n",
            "Get:19 http://security.ubuntu.com/ubuntu bionic-security/restricted amd64 Packages [982 kB]\n",
            "Get:20 http://archive.ubuntu.com/ubuntu bionic-updates/restricted amd64 Packages [1,015 kB]\n",
            "Get:21 http://archive.ubuntu.com/ubuntu bionic-updates/main amd64 Packages [3,262 kB]\n",
            "Get:22 http://ppa.launchpad.net/c2d4u.team/c2d4u4.0+/ubuntu bionic/main amd64 Packages [1,021 kB]\n",
            "Get:23 http://ppa.launchpad.net/deadsnakes/ppa/ubuntu bionic/main amd64 Packages [45.3 kB]\n",
            "Get:24 http://ppa.launchpad.net/graphics-drivers/ppa/ubuntu bionic/main amd64 Packages [47.7 kB]\n",
            "Fetched 16.1 MB in 8s (1,999 kB/s)\n",
            "Reading package lists... Done\n"
          ]
        }
      ],
      "source": [
        "import os\n",
        "# Find the latest version of spark 3.0 from http://www.apache.org/dist/spark/ and enter as the spark version\n",
        "# For example:\n",
        "# spark_version = 'spark-3.0.3'\n",
        "spark_version = 'spark-3.0.3'\n",
        "os.environ['SPARK_VERSION']=spark_version\n",
        "\n",
        "# Install Spark and Java\n",
        "!apt-get update\n",
        "!apt-get install openjdk-11-jdk-headless -qq > /dev/null\n",
        "!wget -q http://www.apache.org/dist/spark/$SPARK_VERSION/$SPARK_VERSION-bin-hadoop2.7.tgz\n",
        "!tar xf $SPARK_VERSION-bin-hadoop2.7.tgz\n",
        "!pip install -q findspark\n",
        "\n",
        "# Set Environment Variables\n",
        "import os\n",
        "os.environ[\"JAVA_HOME\"] = \"/usr/lib/jvm/java-11-openjdk-amd64\"\n",
        "os.environ[\"SPARK_HOME\"] = f\"/content/{spark_version}-bin-hadoop2.7\"\n",
        "\n",
        "# Start a SparkSession\n",
        "import findspark\n",
        "findspark.init()"
      ]
    },
    {
      "cell_type": "code",
      "source": [
        "# Start Spark session\n",
        "from pyspark.sql import SparkSession\n",
        "spark = SparkSession.builder.appName(\"Deliverable2\").getOrCreate()\n"
      ],
      "metadata": {
        "id": "w1KLvA4YRs92"
      },
      "execution_count": 2,
      "outputs": []
    },
    {
      "cell_type": "code",
      "source": [
        "from pyspark import SparkFiles\n",
        "url = \"https://s3.amazonaws.com/amazon-reviews-pds/tsv/amazon_reviews_us_Personal_Care_Appliances_v1_00.tsv.gz\"\n",
        "spark.sparkContext.addFile(url)\n",
        "df = spark.read.option(\"encoding\", \"UTF-8\").csv(SparkFiles.get(\"amazon_reviews_us_Personal_Care_Appliances_v1_00.tsv.gz\"), sep=\"\\t\", header=True, inferSchema=True)\n",
        "df.show()"
      ],
      "metadata": {
        "colab": {
          "base_uri": "https://localhost:8080/"
        },
        "id": "AWPCPACBRtNu",
        "outputId": "3fa898bf-8196-4bbd-e15e-f2b2e2f2ee6b"
      },
      "execution_count": 3,
      "outputs": [
        {
          "output_type": "stream",
          "name": "stdout",
          "text": [
            "+-----------+-----------+--------------+----------+--------------+--------------------+--------------------+-----------+-------------+-----------+----+-----------------+--------------------+--------------------+-----------+\n",
            "|marketplace|customer_id|     review_id|product_id|product_parent|       product_title|    product_category|star_rating|helpful_votes|total_votes|vine|verified_purchase|     review_headline|         review_body|review_date|\n",
            "+-----------+-----------+--------------+----------+--------------+--------------------+--------------------+-----------+-------------+-----------+----+-----------------+--------------------+--------------------+-----------+\n",
            "|         US|   32114233|R1QX6706ZWJ1P5|B00OYRW4UE|     223980852|Elite Sportz Exer...|Personal_Care_App...|          5|            0|          0|   N|                Y|Good quality. Shi...|Exactly as descri...| 2015-08-31|\n",
            "|         US|   18125776|R3QWMLJHIW6P37|B0000537JQ|     819771537|     Ezy Dose Weekly|Personal_Care_App...|          5|            0|          0|   N|                Y|          Five Stars|         It is great| 2015-08-31|\n",
            "|         US|   19917519|R14Z1VR1N0Z9G6|B00HXXO332|     849307176|Pulse Oximeter, B...|Personal_Care_App...|          5|            1|          1|   N|                Y|It's really nice ...|It's really nice ...| 2015-08-31|\n",
            "|         US|   18277171| R25ZRJL0GH0U0|B00EOB0JA2|     700864740|SE Tools Tool Kit...|Personal_Care_App...|          2|            0|          0|   N|                Y|           Two Stars|The kit works fin...| 2015-08-31|\n",
            "|         US|    2593270|R3837KYH7AZNIY|B00OC2O1UC|     794298839|doTERRA HD Clear ...|Personal_Care_App...|          4|            0|          1|   N|                Y|          Four Stars|It works better t...| 2015-08-31|\n",
            "|         US|    2592955|R2MN0QYCY6EVIV|B00HES9CMS|     318730927|Viva Naturals #1 ...|Personal_Care_App...|          5|            0|          0|   N|                Y|      not bad at all|I added to my oat...| 2015-08-31|\n",
            "|         US|   15168265|R3AN2UJ1D42ZS0|B0016BFR4G|     887476137|Uncle Lee's Organ...|Personal_Care_App...|          5|            0|          0|   N|                Y|Mild, enjoyable t...|Husband drinks th...| 2015-08-31|\n",
            "|         US|   13761624|R3U29ZLUWEEK4M|B00K504UUG|     458706868|Syrtenty Electrod...|Personal_Care_App...|          5|            0|          0|   N|                Y|          Five Stars|       Good quality.| 2015-08-31|\n",
            "|         US|   37070734|R16ZDMJJHK796C|B00HES9CMS|     318730927|Viva Naturals #1 ...|Personal_Care_App...|          5|            0|          0|   N|                N|        High Quality|This is high qual...| 2015-08-31|\n",
            "|         US|   29615023| RRRDOEJZD1Y22|B00P6TUO5G|     170248843|Viva Naturals Org...|Personal_Care_App...|          4|            0|          0|   N|                Y|          we like it|Buying more produ...| 2015-08-31|\n",
            "|         US|   47893062|R2KR5ZEAS859DK|B0006VJ6TO|     412568457|Body Back Company...|Personal_Care_App...|          5|            0|          0|   N|                Y|          Five Stars|    Their best cane.| 2015-08-31|\n",
            "|         US|    2582596| RR7PGQY763IHF|B00H9L7VIW|     851045898|boostULTIMATE - 6...|Personal_Care_App...|          5|            0|          0|   N|                Y|       Great product|Great product! Ma...| 2015-08-31|\n",
            "|         US|   21969415| RN37YYZBP9BMP|B00P1JNZUW|     274294586|doTERRA Veráge Sk...|Personal_Care_App...|          5|            4|          4|   N|                Y|Love the prouduct...|Love the prouduct...| 2015-08-31|\n",
            "|         US|   43153609| R1UXGB70OR5TW|B00N5HD340|     955577225|      Straight Razor|Personal_Care_App...|          5|            0|          0|   N|                Y|          Five Stars|          great buy.| 2015-08-31|\n",
            "|         US|   17782951|R1OC5ZNXSGO7P1|B0007DHMVK|      78719480|BONGER Massage To...|Personal_Care_App...|          5|            0|          0|   N|                Y|          Five stars|These are so much...| 2015-08-31|\n",
            "|         US|   13710264|R1W4ZN8BPVNWK3|B0002JG2NI|     900996767|Home Health Casto...|Personal_Care_App...|          5|            0|          0|   N|                Y|It works for home...|It works for home...| 2015-08-31|\n",
            "|         US|   30720884|R2KE33CNN5X2B0|B00OYRW4UE|     223980852|Elite Sportz Exer...|Personal_Care_App...|          5|            0|          0|   N|                Y|These work great ...|These work great ...| 2015-08-31|\n",
            "|         US|   35206254|R1A26EDSO0U5N6|B00598WT0C|     218203731|Aloha Eyewear “St...|Personal_Care_App...|          5|            0|          0|   N|                Y|             awesome|for anyone needin...| 2015-08-31|\n",
            "|         US|   10261156|R3L81GOHVS3E9P|B0006VJ6TO|     412568457|Body Back Company...|Personal_Care_App...|          5|            0|          0|   N|                Y| Deep tissue massage|This works perfec...| 2015-08-31|\n",
            "|         US|   50708344| RNFW9SWC5D0YF|B00J7G96NK|     256041044|Oral B Glide Flos...|Personal_Care_App...|          5|            2|          2|   N|                N|These are an esse...|Not only are thes...| 2015-08-31|\n",
            "+-----------+-----------+--------------+----------+--------------+--------------------+--------------------+-----------+-------------+-----------+----+-----------------+--------------------+--------------------+-----------+\n",
            "only showing top 20 rows\n",
            "\n"
          ]
        }
      ]
    },
    {
      "cell_type": "code",
      "source": [
        "vine_table = df.select([\"review_id\",\"star_rating\",\"helpful_votes\",\"total_votes\",\"vine\",\"verified_purchase\"])\n",
        "vine_table.show(20)"
      ],
      "metadata": {
        "colab": {
          "base_uri": "https://localhost:8080/"
        },
        "id": "GvRlJHQtRtSl",
        "outputId": "02ee3ce1-92e0-4a55-c756-96e6bc159577"
      },
      "execution_count": 4,
      "outputs": [
        {
          "output_type": "stream",
          "name": "stdout",
          "text": [
            "+--------------+-----------+-------------+-----------+----+-----------------+\n",
            "|     review_id|star_rating|helpful_votes|total_votes|vine|verified_purchase|\n",
            "+--------------+-----------+-------------+-----------+----+-----------------+\n",
            "|R1QX6706ZWJ1P5|          5|            0|          0|   N|                Y|\n",
            "|R3QWMLJHIW6P37|          5|            0|          0|   N|                Y|\n",
            "|R14Z1VR1N0Z9G6|          5|            1|          1|   N|                Y|\n",
            "| R25ZRJL0GH0U0|          2|            0|          0|   N|                Y|\n",
            "|R3837KYH7AZNIY|          4|            0|          1|   N|                Y|\n",
            "|R2MN0QYCY6EVIV|          5|            0|          0|   N|                Y|\n",
            "|R3AN2UJ1D42ZS0|          5|            0|          0|   N|                Y|\n",
            "|R3U29ZLUWEEK4M|          5|            0|          0|   N|                Y|\n",
            "|R16ZDMJJHK796C|          5|            0|          0|   N|                N|\n",
            "| RRRDOEJZD1Y22|          4|            0|          0|   N|                Y|\n",
            "|R2KR5ZEAS859DK|          5|            0|          0|   N|                Y|\n",
            "| RR7PGQY763IHF|          5|            0|          0|   N|                Y|\n",
            "| RN37YYZBP9BMP|          5|            4|          4|   N|                Y|\n",
            "| R1UXGB70OR5TW|          5|            0|          0|   N|                Y|\n",
            "|R1OC5ZNXSGO7P1|          5|            0|          0|   N|                Y|\n",
            "|R1W4ZN8BPVNWK3|          5|            0|          0|   N|                Y|\n",
            "|R2KE33CNN5X2B0|          5|            0|          0|   N|                Y|\n",
            "|R1A26EDSO0U5N6|          5|            0|          0|   N|                Y|\n",
            "|R3L81GOHVS3E9P|          5|            0|          0|   N|                Y|\n",
            "| RNFW9SWC5D0YF|          5|            2|          2|   N|                N|\n",
            "+--------------+-----------+-------------+-----------+----+-----------------+\n",
            "only showing top 20 rows\n",
            "\n"
          ]
        }
      ]
    },
    {
      "cell_type": "code",
      "source": [
        "vine_df=vine_table.filter(vine_table.total_votes >=20)\n",
        "vine_df.orderBy(vine_df['total_votes'].asc()).show()"
      ],
      "metadata": {
        "colab": {
          "base_uri": "https://localhost:8080/"
        },
        "id": "6Xre-oF7UqJo",
        "outputId": "3a7517c8-d64f-44b1-e59f-cda66bb8a7bb"
      },
      "execution_count": 5,
      "outputs": [
        {
          "output_type": "stream",
          "name": "stdout",
          "text": [
            "+--------------+-----------+-------------+-----------+----+-----------------+\n",
            "|     review_id|star_rating|helpful_votes|total_votes|vine|verified_purchase|\n",
            "+--------------+-----------+-------------+-----------+----+-----------------+\n",
            "|R1VI75W9GLU0UE|          1|            5|         20|   N|                Y|\n",
            "|R1GMRTTRZOR2JQ|          2|           20|         20|   N|                Y|\n",
            "|R35X1N5KF93TC8|          1|            2|         20|   N|                Y|\n",
            "|R28VFN6VN0VBTB|          1|            7|         20|   N|                N|\n",
            "|R38S6X7GNDUMD4|          5|           18|         20|   N|                Y|\n",
            "| R9F7EN48ULXMD|          1|           11|         20|   N|                Y|\n",
            "|R3C2TJDN9Q5S67|          3|            3|         20|   N|                Y|\n",
            "|R1GHR6F1XRBNAZ|          1|           10|         20|   N|                Y|\n",
            "| RVNEUP25G4NWN|          4|            6|         20|   N|                N|\n",
            "|R3NROF8024WIF7|          5|           18|         20|   N|                Y|\n",
            "| RE3MJV9VIBVYR|          5|           14|         20|   N|                Y|\n",
            "|R1PAXUCW0D9EIU|          5|           20|         20|   N|                Y|\n",
            "|R2WZ0YGMYGN0N5|          1|           17|         20|   N|                N|\n",
            "| RC7MEMULKPSHP|          5|           19|         20|   N|                Y|\n",
            "|R11SKO5KCPIC9D|          5|           18|         20|   N|                N|\n",
            "| RHWLB04H87PL8|          5|           18|         20|   N|                Y|\n",
            "|R32D8HE1BJZ1N4|          5|           19|         20|   N|                Y|\n",
            "| R3HY5HMHYSWYY|          5|           19|         20|   N|                Y|\n",
            "|R2F6JJF1MDQ1LN|          1|           19|         20|   N|                Y|\n",
            "|R34J70XPH7C691|          5|           20|         20|   N|                Y|\n",
            "+--------------+-----------+-------------+-----------+----+-----------------+\n",
            "only showing top 20 rows\n",
            "\n"
          ]
        }
      ]
    },
    {
      "cell_type": "code",
      "source": [
        "vine_helpful_votes=vine_df.filter(vine_df.helpful_votes/vine_df.total_votes >= 0.5)\n",
        "vine_helpful_votes.show()"
      ],
      "metadata": {
        "colab": {
          "base_uri": "https://localhost:8080/"
        },
        "id": "HjQUSJX-Uqkr",
        "outputId": "06627bf6-59a2-4d99-ec4d-31a3106690ad"
      },
      "execution_count": 29,
      "outputs": [
        {
          "output_type": "stream",
          "name": "stdout",
          "text": [
            "+--------------+-----------+-------------+-----------+----+-----------------+\n",
            "|     review_id|star_rating|helpful_votes|total_votes|vine|verified_purchase|\n",
            "+--------------+-----------+-------------+-----------+----+-----------------+\n",
            "|R2PT2X8FMYFCV3|          5|           39|         41|   N|                Y|\n",
            "| RGCUQSH80SYY7|          1|           36|         47|   N|                N|\n",
            "|R3E6EI073KP0AL|          2|           21|         36|   N|                Y|\n",
            "|R3MYTXW7B4Z6YW|          4|          687|        711|   N|                Y|\n",
            "|R2WMF1IWN5ZYO4|          5|           18|         24|   N|                Y|\n",
            "| ROX6L7VJFS2P7|          5|          339|        371|   N|                N|\n",
            "| RRKAST7D4QTW8|          1|           20|         27|   N|                N|\n",
            "|R2QBKTWBDPL8BF|          5|           65|         83|   N|                N|\n",
            "|R3ULT9I0U79N8L|          5|           49|         57|   N|                N|\n",
            "| RAC19YVDYSIKB|          5|          161|        178|   N|                Y|\n",
            "|R2Y371XG6AXDOJ|          1|           16|         30|   N|                Y|\n",
            "|R2AYFA0X50V4BN|          5|           19|         20|   N|                Y|\n",
            "|R1327SZTWDHLID|          1|           12|         24|   N|                Y|\n",
            "|R1I52HQDJFY2G0|          4|           18|         20|   N|                Y|\n",
            "|R1FANBM03J1IHE|          5|           24|         31|   N|                N|\n",
            "|R2X15QGPQ9ESRU|          1|           12|         23|   N|                Y|\n",
            "|R1F7CUCJIBPS7L|          3|           20|         21|   N|                Y|\n",
            "|R3JV04CHH10FFR|          5|           32|         32|   N|                Y|\n",
            "| R9F7EN48ULXMD|          1|           11|         20|   N|                Y|\n",
            "|R1K0BP4TF3U8EH|          5|           23|         37|   N|                Y|\n",
            "+--------------+-----------+-------------+-----------+----+-----------------+\n",
            "only showing top 20 rows\n",
            "\n"
          ]
        }
      ]
    },
    {
      "cell_type": "code",
      "source": [
        "vine_review=vine_helpful_votes.filter(vine_helpful_votes.vine=='Y')\n",
        "vine_review.show(20)"
      ],
      "metadata": {
        "colab": {
          "base_uri": "https://localhost:8080/"
        },
        "id": "LZJghRmpYZDd",
        "outputId": "07988258-568b-4cb9-ec02-1a2497ed152d"
      },
      "execution_count": 30,
      "outputs": [
        {
          "output_type": "stream",
          "name": "stdout",
          "text": [
            "+--------------+-----------+-------------+-----------+----+-----------------+\n",
            "|     review_id|star_rating|helpful_votes|total_votes|vine|verified_purchase|\n",
            "+--------------+-----------+-------------+-----------+----+-----------------+\n",
            "|R3R2RHQWEKX5NL|          5|           81|         89|   Y|                N|\n",
            "|R1RZ4JZO8DAP7H|          3|          200|        227|   Y|                N|\n",
            "| RQ94HI0WM8KIG|          5|          174|        188|   Y|                N|\n",
            "+--------------+-----------+-------------+-----------+----+-----------------+\n",
            "\n"
          ]
        }
      ]
    },
    {
      "cell_type": "code",
      "source": [
        "nonvine_review=vine_helpful_votes.filter(vine_helpful_votes.vine=='N')\n",
        "nonvine_review.show(20)"
      ],
      "metadata": {
        "colab": {
          "base_uri": "https://localhost:8080/"
        },
        "id": "H-d4GFPxZKcc",
        "outputId": "80436e5c-1524-4db4-e083-ddc531f6e6b8"
      },
      "execution_count": 32,
      "outputs": [
        {
          "output_type": "stream",
          "name": "stdout",
          "text": [
            "+--------------+-----------+-------------+-----------+----+-----------------+\n",
            "|     review_id|star_rating|helpful_votes|total_votes|vine|verified_purchase|\n",
            "+--------------+-----------+-------------+-----------+----+-----------------+\n",
            "|R2PT2X8FMYFCV3|          5|           39|         41|   N|                Y|\n",
            "| RGCUQSH80SYY7|          1|           36|         47|   N|                N|\n",
            "|R3E6EI073KP0AL|          2|           21|         36|   N|                Y|\n",
            "|R3MYTXW7B4Z6YW|          4|          687|        711|   N|                Y|\n",
            "|R2WMF1IWN5ZYO4|          5|           18|         24|   N|                Y|\n",
            "| ROX6L7VJFS2P7|          5|          339|        371|   N|                N|\n",
            "| RRKAST7D4QTW8|          1|           20|         27|   N|                N|\n",
            "|R2QBKTWBDPL8BF|          5|           65|         83|   N|                N|\n",
            "|R3ULT9I0U79N8L|          5|           49|         57|   N|                N|\n",
            "| RAC19YVDYSIKB|          5|          161|        178|   N|                Y|\n",
            "|R2Y371XG6AXDOJ|          1|           16|         30|   N|                Y|\n",
            "|R2AYFA0X50V4BN|          5|           19|         20|   N|                Y|\n",
            "|R1327SZTWDHLID|          1|           12|         24|   N|                Y|\n",
            "|R1I52HQDJFY2G0|          4|           18|         20|   N|                Y|\n",
            "|R1FANBM03J1IHE|          5|           24|         31|   N|                N|\n",
            "|R2X15QGPQ9ESRU|          1|           12|         23|   N|                Y|\n",
            "|R1F7CUCJIBPS7L|          3|           20|         21|   N|                Y|\n",
            "|R3JV04CHH10FFR|          5|           32|         32|   N|                Y|\n",
            "| R9F7EN48ULXMD|          1|           11|         20|   N|                Y|\n",
            "|R1K0BP4TF3U8EH|          5|           23|         37|   N|                Y|\n",
            "+--------------+-----------+-------------+-----------+----+-----------------+\n",
            "only showing top 20 rows\n",
            "\n"
          ]
        }
      ]
    },
    {
      "cell_type": "code",
      "source": [
        "#total number of reviews\n",
        "total_num_reviews=vine_helpful_votes.count()\n",
        "total_num_reviews"
      ],
      "metadata": {
        "colab": {
          "base_uri": "https://localhost:8080/"
        },
        "id": "d5nGMpmBYZFy",
        "outputId": "4503f383-8939-4e82-bbff-9c4d3e15d7d2"
      },
      "execution_count": 33,
      "outputs": [
        {
          "output_type": "execute_result",
          "data": {
            "text/plain": [
              "3097"
            ]
          },
          "metadata": {},
          "execution_count": 33
        }
      ]
    },
    {
      "cell_type": "code",
      "source": [
        "#total number of Vine reviews \n",
        "total_vine_reviews=vine_review.count()\n",
        "total_vine_reviews"
      ],
      "metadata": {
        "colab": {
          "base_uri": "https://localhost:8080/"
        },
        "id": "iwRK5DmciBRC",
        "outputId": "3fd75f7d-93a5-4fe6-d250-c26880b85b29"
      },
      "execution_count": 35,
      "outputs": [
        {
          "output_type": "execute_result",
          "data": {
            "text/plain": [
              "3"
            ]
          },
          "metadata": {},
          "execution_count": 35
        }
      ]
    },
    {
      "cell_type": "code",
      "source": [
        "#total number of non vine reviews\n",
        "total_nonvine_reviews=nonvine_review.count()\n",
        "total_nonvine_reviews"
      ],
      "metadata": {
        "colab": {
          "base_uri": "https://localhost:8080/"
        },
        "id": "lPrVJip1jSzq",
        "outputId": "31308272-38f0-4245-d849-e0557dd62205"
      },
      "execution_count": 36,
      "outputs": [
        {
          "output_type": "execute_result",
          "data": {
            "text/plain": [
              "3094"
            ]
          },
          "metadata": {},
          "execution_count": 36
        }
      ]
    },
    {
      "cell_type": "code",
      "source": [
        "#total 5-star reviews\n",
        "five_star_reviews=vine_helpful_votes.filter(vine_helpful_votes.star_rating==\"5\")\n",
        "five_star_reviews.count()"
      ],
      "metadata": {
        "colab": {
          "base_uri": "https://localhost:8080/"
        },
        "id": "gUMAZ-VbdX7w",
        "outputId": "3f8427e6-f422-4038-e6f3-6375efd09ade"
      },
      "execution_count": 37,
      "outputs": [
        {
          "output_type": "execute_result",
          "data": {
            "text/plain": [
              "1706"
            ]
          },
          "metadata": {},
          "execution_count": 37
        }
      ]
    },
    {
      "cell_type": "code",
      "source": [
        "#total 5-star reviews of Vine reviews \n",
        "five_star_vine_reviews=vine_review.filter(vine_review.star_rating==\"5\")\n",
        "five_star_vine_reviews.count()"
      ],
      "metadata": {
        "colab": {
          "base_uri": "https://localhost:8080/"
        },
        "id": "3Rh_u1C3jkqJ",
        "outputId": "a1152737-45fa-4c43-8dfc-2e58df8ea0f7"
      },
      "execution_count": 39,
      "outputs": [
        {
          "output_type": "execute_result",
          "data": {
            "text/plain": [
              "2"
            ]
          },
          "metadata": {},
          "execution_count": 39
        }
      ]
    },
    {
      "cell_type": "code",
      "source": [
        "#total 5-star reviews of NON Vine reviews\n",
        "five_star_NONvine_reviews=nonvine_review.filter(nonvine_review.star_rating==\"5\")\n",
        "five_star_NONvine_reviews.count()"
      ],
      "metadata": {
        "colab": {
          "base_uri": "https://localhost:8080/"
        },
        "id": "znSfJupqjkws",
        "outputId": "d7fd315e-d8e4-4d4c-c36d-4df42f9049af"
      },
      "execution_count": 40,
      "outputs": [
        {
          "output_type": "execute_result",
          "data": {
            "text/plain": [
              "1704"
            ]
          },
          "metadata": {},
          "execution_count": 40
        }
      ]
    },
    {
      "cell_type": "code",
      "source": [
        "#% of 5-star Vine reviews\n",
        "percentage_five_star_Vine= (five_star_vine_reviews.count()/five_star_reviews.count())*100\n",
        "\n",
        "round(percentage_five_star_Vine,2)"
      ],
      "metadata": {
        "colab": {
          "base_uri": "https://localhost:8080/"
        },
        "id": "2PdHtXDPjk1K",
        "outputId": "2a9bb300-47de-4503-fb37-72a7e618d3a7"
      },
      "execution_count": 45,
      "outputs": [
        {
          "output_type": "execute_result",
          "data": {
            "text/plain": [
              "0.12"
            ]
          },
          "metadata": {},
          "execution_count": 45
        }
      ]
    },
    {
      "cell_type": "code",
      "source": [
        "#% of 5-star NON Vine reviews\n",
        "percentage_five_star_NONVine= (five_star_NONvine_reviews.count()/five_star_reviews.count())*100\n",
        "\n",
        "round(percentage_five_star_NONVine,2)"
      ],
      "metadata": {
        "colab": {
          "base_uri": "https://localhost:8080/"
        },
        "id": "Xur-LXn9dYFf",
        "outputId": "c67fb149-6833-4cff-c857-929cc7ea630d"
      },
      "execution_count": 46,
      "outputs": [
        {
          "output_type": "execute_result",
          "data": {
            "text/plain": [
              "99.88"
            ]
          },
          "metadata": {},
          "execution_count": 46
        }
      ]
    }
  ]
}